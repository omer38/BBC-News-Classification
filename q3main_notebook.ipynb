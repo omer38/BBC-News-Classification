{
 "cells": [
  {
   "cell_type": "markdown",
   "id": "23f0244b",
   "metadata": {},
   "source": [
    "# Ömer Tuğrul CS464 HW1"
   ]
  },
  {
   "cell_type": "markdown",
   "id": "c7bd05d9",
   "metadata": {},
   "source": [
    "# Question 3.1"
   ]
  },
  {
   "cell_type": "code",
   "execution_count": 1,
   "id": "efb50203",
   "metadata": {},
   "outputs": [],
   "source": [
    "import numpy as np\n",
    "import pandas as pd\n",
    "import matplotlib.pyplot as plt\n",
    "import seaborn as sns"
   ]
  },
  {
   "cell_type": "code",
   "execution_count": 2,
   "id": "be417a45",
   "metadata": {},
   "outputs": [],
   "source": [
    "X_train = pd.read_csv(\"C:\\\\Users\\\\user\\\\Desktop\\\\CS464-HW1\\\\dataset\\\\X_train.csv\",delim_whitespace = True)\n",
    "X_test = pd.read_csv(\"C:\\\\Users\\\\user\\\\Desktop\\\\CS464-HW1\\\\dataset\\\\X_test.csv\",delim_whitespace = True)"
   ]
  },
  {
   "cell_type": "code",
   "execution_count": 3,
   "id": "f5b428c7",
   "metadata": {},
   "outputs": [
    {
     "data": {
      "text/html": [
       "<div>\n",
       "<style scoped>\n",
       "    .dataframe tbody tr th:only-of-type {\n",
       "        vertical-align: middle;\n",
       "    }\n",
       "\n",
       "    .dataframe tbody tr th {\n",
       "        vertical-align: top;\n",
       "    }\n",
       "\n",
       "    .dataframe thead th {\n",
       "        text-align: right;\n",
       "    }\n",
       "</style>\n",
       "<table border=\"1\" class=\"dataframe\">\n",
       "  <thead>\n",
       "    <tr style=\"text-align: right;\">\n",
       "      <th></th>\n",
       "      <th>ad</th>\n",
       "      <th>sale</th>\n",
       "      <th>boost</th>\n",
       "      <th>time</th>\n",
       "      <th>warner</th>\n",
       "      <th>profit</th>\n",
       "      <th>quarterli</th>\n",
       "      <th>media</th>\n",
       "      <th>giant</th>\n",
       "      <th>jump</th>\n",
       "      <th>...</th>\n",
       "      <th>Â£339</th>\n",
       "      <th>denialofservic</th>\n",
       "      <th>ddo</th>\n",
       "      <th>seagrav</th>\n",
       "      <th>bot</th>\n",
       "      <th>wirelessli</th>\n",
       "      <th>streamcast</th>\n",
       "      <th>peripher</th>\n",
       "      <th>headphon</th>\n",
       "      <th>flavour</th>\n",
       "    </tr>\n",
       "  </thead>\n",
       "  <tbody>\n",
       "    <tr>\n",
       "      <th>0</th>\n",
       "      <td>1</td>\n",
       "      <td>1</td>\n",
       "      <td>0</td>\n",
       "      <td>0</td>\n",
       "      <td>0</td>\n",
       "      <td>0</td>\n",
       "      <td>0</td>\n",
       "      <td>4</td>\n",
       "      <td>1</td>\n",
       "      <td>0</td>\n",
       "      <td>...</td>\n",
       "      <td>0</td>\n",
       "      <td>0</td>\n",
       "      <td>0</td>\n",
       "      <td>0</td>\n",
       "      <td>0</td>\n",
       "      <td>0</td>\n",
       "      <td>0</td>\n",
       "      <td>0</td>\n",
       "      <td>0</td>\n",
       "      <td>0</td>\n",
       "    </tr>\n",
       "    <tr>\n",
       "      <th>1</th>\n",
       "      <td>0</td>\n",
       "      <td>0</td>\n",
       "      <td>0</td>\n",
       "      <td>0</td>\n",
       "      <td>0</td>\n",
       "      <td>0</td>\n",
       "      <td>0</td>\n",
       "      <td>0</td>\n",
       "      <td>0</td>\n",
       "      <td>0</td>\n",
       "      <td>...</td>\n",
       "      <td>0</td>\n",
       "      <td>0</td>\n",
       "      <td>0</td>\n",
       "      <td>0</td>\n",
       "      <td>0</td>\n",
       "      <td>0</td>\n",
       "      <td>0</td>\n",
       "      <td>0</td>\n",
       "      <td>0</td>\n",
       "      <td>0</td>\n",
       "    </tr>\n",
       "  </tbody>\n",
       "</table>\n",
       "<p>2 rows × 9635 columns</p>\n",
       "</div>"
      ],
      "text/plain": [
       "   ad  sale  boost  time  warner  profit  quarterli  media  giant  jump  ...  \\\n",
       "0   1     1      0     0       0       0          0      4      1     0  ...   \n",
       "1   0     0      0     0       0       0          0      0      0     0  ...   \n",
       "\n",
       "   Â£339  denialofservic  ddo  seagrav  bot  wirelessli  streamcast  peripher  \\\n",
       "0      0               0    0        0    0           0           0         0   \n",
       "1      0               0    0        0    0           0           0         0   \n",
       "\n",
       "   headphon  flavour  \n",
       "0         0        0  \n",
       "1         0        0  \n",
       "\n",
       "[2 rows x 9635 columns]"
      ]
     },
     "execution_count": 3,
     "metadata": {},
     "output_type": "execute_result"
    }
   ],
   "source": [
    "X_train.head(2)"
   ]
  },
  {
   "cell_type": "code",
   "execution_count": 4,
   "id": "5f1a9d72",
   "metadata": {},
   "outputs": [
    {
     "name": "stdout",
     "output_type": "stream",
     "text": [
      "<class 'pandas.core.frame.DataFrame'>\n",
      "RangeIndex: 1668 entries, 0 to 1667\n",
      "Columns: 9635 entries, ad to flavour\n",
      "dtypes: int64(9635)\n",
      "memory usage: 122.6 MB\n"
     ]
    }
   ],
   "source": [
    "X_train.info()"
   ]
  },
  {
   "cell_type": "code",
   "execution_count": 5,
   "id": "d7df23e4",
   "metadata": {},
   "outputs": [],
   "source": [
    "y_train = pd.read_csv(\"C:\\\\Users\\\\user\\\\Desktop\\\\CS464-HW1\\\\dataset\\\\y_train.csv\",header=None)\n",
    "y_test = pd.read_csv(\"C:\\\\Users\\\\user\\\\Desktop\\\\CS464-HW1\\\\dataset\\\\y_test.csv\",header=None)\n",
    "y_train\n",
    "train_counts = y_train.value_counts().sort_index()"
   ]
  },
  {
   "cell_type": "code",
   "execution_count": 6,
   "id": "5a1da3e6",
   "metadata": {},
   "outputs": [
    {
     "data": {
      "text/plain": [
       "Bussiness        375\n",
       "Entertainment    284\n",
       "Politics         319\n",
       "Sport            377\n",
       "Tech             313\n",
       "dtype: int64"
      ]
     },
     "execution_count": 6,
     "metadata": {},
     "output_type": "execute_result"
    }
   ],
   "source": [
    "train_counts.index = [\"Bussiness\",\"Entertainment\",\"Politics\",\"Sport\",\"Tech\"]\n",
    "train_counts"
   ]
  },
  {
   "cell_type": "code",
   "execution_count": 7,
   "id": "a5529b77",
   "metadata": {},
   "outputs": [
    {
     "data": {
      "text/plain": [
       "Bussiness        0.224820\n",
       "Entertainment    0.170264\n",
       "Politics         0.191247\n",
       "Sport            0.226019\n",
       "Tech             0.187650\n",
       "dtype: float64"
      ]
     },
     "execution_count": 7,
     "metadata": {},
     "output_type": "execute_result"
    }
   ],
   "source": [
    "pri_prob = train_counts/train_counts.sum()\n",
    "pri_prob"
   ]
  },
  {
   "cell_type": "code",
   "execution_count": 8,
   "id": "dabf2a26",
   "metadata": {},
   "outputs": [
    {
     "data": {
      "text/plain": [
       "Bussiness        135\n",
       "Entertainment    102\n",
       "Politics          98\n",
       "Sport            134\n",
       "Tech              88\n",
       "dtype: int64"
      ]
     },
     "execution_count": 8,
     "metadata": {},
     "output_type": "execute_result"
    }
   ],
   "source": [
    "test_counts = y_test.value_counts().sort_index()\n",
    "test_counts.index = [\"Bussiness\",\"Entertainment\",\"Politics\",\"Sport\",\"Tech\"]\n",
    "test_counts"
   ]
  },
  {
   "cell_type": "code",
   "execution_count": 9,
   "id": "4dd09c49",
   "metadata": {},
   "outputs": [
    {
     "data": {
      "image/png": "[encoded data removed]",
      "text/plain": [
       "<Figure size 640x480 with 1 Axes>"
      ]
     },
     "metadata": {},
     "output_type": "display_data"
    }
   ],
   "source": [
    "plt.pie(train_counts, labels=train_counts.index, autopct='%1.1f%%');\n",
    "plt.title(\"Train data class distribution\");"
   ]
  },
  {
   "cell_type": "code",
   "execution_count": 10,
   "id": "8ddc29f3",
   "metadata": {},
   "outputs": [
    {
     "data": {
      "image/png": "[encoded data removed]",
      "text/plain": [
       "<Figure size 640x480 with 1 Axes>"
      ]
     },
     "metadata": {},
     "output_type": "display_data"
    }
   ],
   "source": [
    "plt.pie(test_counts, labels=test_counts.index, autopct='%1.1f%%');\n",
    "plt.title(\"Test data class distribution\");"
   ]
  },
  {
   "cell_type": "code",
   "execution_count": 11,
   "id": "1b3221b6",
   "metadata": {},
   "outputs": [],
   "source": [
    "y_train.columns = ['class']"
   ]
  },
  {
   "cell_type": "code",
   "execution_count": 12,
   "id": "21557402",
   "metadata": {},
   "outputs": [
    {
     "data": {
      "text/plain": [
       "0    310\n",
       "1      3\n",
       "Name: alien, dtype: int64"
      ]
     },
     "execution_count": 12,
     "metadata": {},
     "output_type": "execute_result"
    }
   ],
   "source": [
    "X_train[y_train['class'] == 4]['alien'].value_counts()"
   ]
  },
  {
   "cell_type": "code",
   "execution_count": 13,
   "id": "f1085330",
   "metadata": {},
   "outputs": [
    {
     "data": {
      "text/plain": [
       "3"
      ]
     },
     "execution_count": 13,
     "metadata": {},
     "output_type": "execute_result"
    }
   ],
   "source": [
    "X_train[y_train['class'] == 4]['alien'].sum()"
   ]
  },
  {
   "cell_type": "code",
   "execution_count": 14,
   "id": "a62b0254",
   "metadata": {},
   "outputs": [
    {
     "data": {
      "text/plain": [
       "0"
      ]
     },
     "execution_count": 14,
     "metadata": {},
     "output_type": "execute_result"
    }
   ],
   "source": [
    "X_train[y_train['class'] == 4]['thunder'].sum()"
   ]
  },
  {
   "cell_type": "code",
   "execution_count": 15,
   "id": "af3eb548",
   "metadata": {},
   "outputs": [
    {
     "data": {
      "text/plain": [
       "3.824920632896867e-05"
      ]
     },
     "execution_count": 15,
     "metadata": {},
     "output_type": "execute_result"
    }
   ],
   "source": [
    "alien_freq = 0\n",
    "for i in range(len(X_train[y_train['class'] == 4]['alien'].value_counts())):\n",
    "    alien_freq += i*X_train[y_train['class'] == 4]['alien'].value_counts()[i]\n",
    "total_tech = X_train[y_train['class'] == 4].sum().sum()\n",
    "alien_given4 = alien_freq/total_tech\n",
    "alien_given4"
   ]
  },
  {
   "cell_type": "code",
   "execution_count": 16,
   "id": "f4921cb3",
   "metadata": {},
   "outputs": [
    {
     "data": {
      "text/plain": [
       "0    313\n",
       "Name: thunder, dtype: int64"
      ]
     },
     "execution_count": 16,
     "metadata": {},
     "output_type": "execute_result"
    }
   ],
   "source": [
    "X_train[y_train['class'] == 4]['thunder'].value_counts()"
   ]
  },
  {
   "cell_type": "code",
   "execution_count": 17,
   "id": "91a6e286",
   "metadata": {},
   "outputs": [
    {
     "data": {
      "text/plain": [
       "0.0"
      ]
     },
     "execution_count": 17,
     "metadata": {},
     "output_type": "execute_result"
    }
   ],
   "source": [
    "thunder_freq = 0\n",
    "total = 0\n",
    "for i in range(len(X_train[y_train['class'] == 4]['thunder'].value_counts())):\n",
    "    alien_freq += i*X_train[y_train['class'] == 4]['thunder'].value_counts()[i]\n",
    "    total += X_train[y_train['class'] == 4]['thunder'].value_counts()[i]\n",
    "thunder_given4 = thunder_freq/total_tech\n",
    "thunder_given4"
   ]
  },
  {
   "cell_type": "code",
   "execution_count": 18,
   "id": "04faf951",
   "metadata": {},
   "outputs": [
    {
     "name": "stderr",
     "output_type": "stream",
     "text": [
      "C:\\Users\\user\\AppData\\Local\\Temp\\ipykernel_66524\\850315015.py:3: RuntimeWarning: divide by zero encountered in log\n",
      "  log_thunder_tech = np.log(thunder_given4)\n"
     ]
    },
    {
     "data": {
      "text/plain": [
       "(-10.171387747476452, -inf)"
      ]
     },
     "execution_count": 18,
     "metadata": {},
     "output_type": "execute_result"
    }
   ],
   "source": [
    "#LOG ratio\n",
    "log_alien_tech = np.log(alien_given4)\n",
    "log_thunder_tech = np.log(thunder_given4)\n",
    "log_alien_tech,log_thunder_tech"
   ]
  },
  {
   "cell_type": "code",
   "execution_count": 19,
   "id": "4531ce93",
   "metadata": {},
   "outputs": [],
   "source": [
    "total_class_values = {}\n",
    "for i in range(5):\n",
    "    total_class_values[i] = y_train.value_counts().sort_index()[i]"
   ]
  },
  {
   "cell_type": "markdown",
   "id": "8b507fb3",
   "metadata": {},
   "source": [
    "# Question 3.2"
   ]
  },
  {
   "cell_type": "markdown",
   "id": "982c75c2",
   "metadata": {},
   "source": [
    "First I will write the accuracy function to evaluate the result of the functions"
   ]
  },
  {
   "cell_type": "code",
   "execution_count": 20,
   "id": "f0a2bf03",
   "metadata": {},
   "outputs": [],
   "source": [
    "def calculate_accuracy(y_test, y_pred):\n",
    "    y_test = np.array(y_test)\n",
    "    y_prediction = np.array(y_pred)\n",
    "    \n",
    "    correct_values = np.sum(y_test==y_pred)\n",
    "    accuracy = correct_values/len(y_test)\n",
    "\n",
    "    return accuracy"
   ]
  },
  {
   "cell_type": "code",
   "execution_count": 21,
   "id": "6f2dded7",
   "metadata": {},
   "outputs": [
    {
     "data": {
      "text/plain": [
       "{0: 375, 1: 284, 2: 319, 3: 377, 4: 313}"
      ]
     },
     "execution_count": 21,
     "metadata": {},
     "output_type": "execute_result"
    }
   ],
   "source": [
    "total_class_values"
   ]
  },
  {
   "cell_type": "code",
   "execution_count": 22,
   "id": "626c63f5",
   "metadata": {},
   "outputs": [],
   "source": [
    "import datetime\n",
    "\n",
    "start_time = datetime.datetime.now()"
   ]
  },
  {
   "cell_type": "code",
   "execution_count": 23,
   "id": "7859bda2",
   "metadata": {},
   "outputs": [],
   "source": [
    "priorss = (y_train.value_counts().sort_index()/y_train.value_counts().sum())\n",
    "prior_class_probs = {}\n",
    "for i in range(5):\n",
    "    prior_class_probs[i] = priorss[i]"
   ]
  },
  {
   "cell_type": "code",
   "execution_count": 24,
   "id": "996bdcac",
   "metadata": {},
   "outputs": [
    {
     "data": {
      "text/plain": [
       "{0: 0.22482014388489208,\n",
       " 1: 0.17026378896882494,\n",
       " 2: 0.19124700239808154,\n",
       " 3: 0.2260191846522782,\n",
       " 4: 0.18764988009592326}"
      ]
     },
     "execution_count": 24,
     "metadata": {},
     "output_type": "execute_result"
    }
   ],
   "source": [
    "prior_class_probs"
   ]
  },
  {
   "cell_type": "code",
   "execution_count": 25,
   "id": "9238cd3c",
   "metadata": {},
   "outputs": [
    {
     "data": {
      "text/plain": [
       "int"
      ]
     },
     "execution_count": 25,
     "metadata": {},
     "output_type": "execute_result"
    }
   ],
   "source": [
    "type(X_train.columns.size)"
   ]
  },
  {
   "cell_type": "code",
   "execution_count": 26,
   "id": "801be0dd",
   "metadata": {},
   "outputs": [
    {
     "data": {
      "text/plain": [
       "3.824920632896867e-05"
      ]
     },
     "execution_count": 26,
     "metadata": {},
     "output_type": "execute_result"
    }
   ],
   "source": [
    "(X_train[y_train['class'] == 4]['alien'].sum())/X_train[y_train['class'] == 4].sum().sum()"
   ]
  },
  {
   "cell_type": "code",
   "execution_count": 27,
   "id": "5399ea36",
   "metadata": {},
   "outputs": [
    {
     "data": {
      "text/plain": [
       "({0: 0.22482014388489208,\n",
       "  1: 0.17026378896882494,\n",
       "  2: 0.19124700239808154,\n",
       "  3: 0.2260191846522782,\n",
       "  4: 0.18764988009592326},\n",
       " {0: 375, 1: 284, 2: 319, 3: 377, 4: 313})"
      ]
     },
     "execution_count": 27,
     "metadata": {},
     "output_type": "execute_result"
    }
   ],
   "source": [
    "prior_class_probs,total_class_values"
   ]
  },
  {
   "cell_type": "code",
   "execution_count": 28,
   "id": "095d0689",
   "metadata": {},
   "outputs": [
    {
     "data": {
      "text/plain": [
       "array([0.22482014, 0.17026379, 0.191247  , 0.22601918, 0.18764988])"
      ]
     },
     "execution_count": 28,
     "metadata": {},
     "output_type": "execute_result"
    }
   ],
   "source": [
    "dict_values = list(prior_class_probs.values())\n",
    "prior_arr = np.array(dict_values)\n",
    "prior_arr"
   ]
  },
  {
   "cell_type": "code",
   "execution_count": 29,
   "id": "f59e4d5e",
   "metadata": {},
   "outputs": [
    {
     "data": {
      "text/html": [
       "<div>\n",
       "<style scoped>\n",
       "    .dataframe tbody tr th:only-of-type {\n",
       "        vertical-align: middle;\n",
       "    }\n",
       "\n",
       "    .dataframe tbody tr th {\n",
       "        vertical-align: top;\n",
       "    }\n",
       "\n",
       "    .dataframe thead th {\n",
       "        text-align: right;\n",
       "    }\n",
       "</style>\n",
       "<table border=\"1\" class=\"dataframe\">\n",
       "  <thead>\n",
       "    <tr style=\"text-align: right;\">\n",
       "      <th></th>\n",
       "      <th>class</th>\n",
       "    </tr>\n",
       "  </thead>\n",
       "  <tbody>\n",
       "    <tr>\n",
       "      <th>0</th>\n",
       "      <td>4</td>\n",
       "    </tr>\n",
       "    <tr>\n",
       "      <th>1</th>\n",
       "      <td>1</td>\n",
       "    </tr>\n",
       "    <tr>\n",
       "      <th>2</th>\n",
       "      <td>1</td>\n",
       "    </tr>\n",
       "    <tr>\n",
       "      <th>3</th>\n",
       "      <td>0</td>\n",
       "    </tr>\n",
       "    <tr>\n",
       "      <th>4</th>\n",
       "      <td>0</td>\n",
       "    </tr>\n",
       "  </tbody>\n",
       "</table>\n",
       "</div>"
      ],
      "text/plain": [
       "   class\n",
       "0      4\n",
       "1      1\n",
       "2      1\n",
       "3      0\n",
       "4      0"
      ]
     },
     "execution_count": 29,
     "metadata": {},
     "output_type": "execute_result"
    }
   ],
   "source": [
    "y_train.head(5)"
   ]
  },
  {
   "cell_type": "code",
   "execution_count": 30,
   "id": "4c606ab7",
   "metadata": {},
   "outputs": [
    {
     "data": {
      "text/plain": [
       "(1668, 9635)"
      ]
     },
     "execution_count": 30,
     "metadata": {},
     "output_type": "execute_result"
    }
   ],
   "source": [
    "X_train.shape"
   ]
  },
  {
   "cell_type": "code",
   "execution_count": 31,
   "id": "f6373fe2",
   "metadata": {},
   "outputs": [
    {
     "data": {
      "text/plain": [
       "array([0, 1, 2, 3, 4], dtype=int64)"
      ]
     },
     "execution_count": 31,
     "metadata": {},
     "output_type": "execute_result"
    }
   ],
   "source": [
    "np.unique(y_train)"
   ]
  },
  {
   "cell_type": "code",
   "execution_count": 32,
   "id": "e5bd4f18",
   "metadata": {},
   "outputs": [],
   "source": [
    "def MLE(X_train,y_train):\n",
    "    X_train = X_train.to_numpy()\n",
    "    y_train = y_train.to_numpy()\n",
    "    m,n = X_train.shape\n",
    "    classes = np.unique(y_train)\n",
    "    n_classes = len(classes)\n",
    "    \n",
    "    likelihoods = np.zeros((n_classes,n))\n",
    "    \n",
    "    for c in range(n_classes):\n",
    "        doc_count = 0\n",
    "        word_count = np.zeros(n)\n",
    "        for i in range(m):\n",
    "            if y_train[i] == c:\n",
    "                word_count += X_train[i]\n",
    "                doc_count += np.sum(X_train[i])\n",
    "        likelihoods[c,:] = np.log(word_count/doc_count)\n",
    "        likelihoods[c, :] = np.where(likelihoods[c, :] == -np.inf, -1e12, likelihoods[c, :])\n",
    "        \n",
    "    return likelihoods"
   ]
  },
  {
   "cell_type": "code",
   "execution_count": 33,
   "id": "0c8e8607",
   "metadata": {},
   "outputs": [
    {
     "data": {
      "text/plain": [
       "71554"
      ]
     },
     "execution_count": 33,
     "metadata": {},
     "output_type": "execute_result"
    }
   ],
   "source": [
    "X_train[y_train['class'] == 2].sum(axis=0).sum()"
   ]
  },
  {
   "cell_type": "code",
   "execution_count": 34,
   "id": "34940408",
   "metadata": {},
   "outputs": [
    {
     "name": "stderr",
     "output_type": "stream",
     "text": [
      "C:\\Users\\user\\AppData\\Local\\Temp\\ipykernel_66524\\3523928532.py:17: RuntimeWarning: divide by zero encountered in log\n",
      "  likelihoods[c,:] = np.log(word_count/doc_count)\n"
     ]
    },
    {
     "data": {
      "text/plain": [
       "array([[-6.23658874e+00, -5.41592824e+00, -6.59899436e+00, ...,\n",
       "        -1.00000000e+12, -1.00000000e+12, -1.00000000e+12],\n",
       "       [-6.30182779e+00, -6.22528771e+00, -8.29425795e+00, ...,\n",
       "        -1.00000000e+12, -1.00000000e+12, -1.00000000e+12],\n",
       "       [-6.22238063e+00, -9.09876615e+00, -7.65184716e+00, ...,\n",
       "        -1.00000000e+12, -1.00000000e+12, -1.00000000e+12],\n",
       "       [-5.98569955e+00, -7.51558483e+00, -8.26935664e+00, ...,\n",
       "        -1.00000000e+12, -1.00000000e+12, -1.00000000e+12],\n",
       "       [-6.49087654e+00, -6.75914053e+00, -8.43678669e+00, ...,\n",
       "        -9.88370568e+00, -1.01713877e+01, -1.05768529e+01]])"
      ]
     },
     "execution_count": 34,
     "metadata": {},
     "output_type": "execute_result"
    }
   ],
   "source": [
    "likelihoods = MLE(X_train,y_train)\n",
    "likelihoods"
   ]
  },
  {
   "cell_type": "code",
   "execution_count": 35,
   "id": "1d47844c",
   "metadata": {},
   "outputs": [
    {
     "data": {
      "text/plain": [
       "(557, 1)"
      ]
     },
     "execution_count": 35,
     "metadata": {},
     "output_type": "execute_result"
    }
   ],
   "source": [
    "y_test.shape"
   ]
  },
  {
   "cell_type": "code",
   "execution_count": 36,
   "id": "250d2d13",
   "metadata": {},
   "outputs": [],
   "source": [
    "def multinomial_nb(X_test, likelihoods, priors, classes):\n",
    "    X_test = X_test.to_numpy()\n",
    "    \n",
    "    n_samples = X_test.shape[0]\n",
    "    n_classes = len(classes)\n",
    "    log_priors = np.log(priors)\n",
    "    class_prob = np.zeros((n_samples, n_classes))\n",
    "    \n",
    "    for c in range(n_classes):\n",
    "        class_prob[:, c] = X_test.dot(likelihoods[c, :]) + log_priors[c]\n",
    "    \n",
    "    predictions = np.argmax(class_prob, axis=1)\n",
    "    return predictions"
   ]
  },
  {
   "cell_type": "code",
   "execution_count": 37,
   "id": "f5b0e12d",
   "metadata": {},
   "outputs": [
    {
     "name": "stdout",
     "output_type": "stream",
     "text": [
      "Accuracy of the Multinomial Naive Bayes classifier: 0.946\n"
     ]
    }
   ],
   "source": [
    "classes = np.unique(y_train)\n",
    "y_pred1 = multinomial_nb(X_test, likelihoods, prior_arr, classes)\n",
    "accuracy = calculate_accuracy(y_test[0],y_pred1)\n",
    "print(f\"Accuracy of the Multinomial Naive Bayes classifier: {accuracy:.3f}\")"
   ]
  },
  {
   "cell_type": "code",
   "execution_count": 38,
   "id": "27f9677f",
   "metadata": {},
   "outputs": [],
   "source": [
    "#CONTINUE TO NEXT QUESTION"
   ]
  },
  {
   "cell_type": "markdown",
   "id": "8e356728",
   "metadata": {},
   "source": [
    "# Question 3.3"
   ]
  },
  {
   "cell_type": "code",
   "execution_count": 39,
   "id": "5353b74f",
   "metadata": {},
   "outputs": [],
   "source": [
    "def MLE_drichlet(X_train,y_train):\n",
    "    X_train = X_train.to_numpy()\n",
    "    y_train = y_train.to_numpy()\n",
    "    m,n = X_train.shape\n",
    "    classes = np.unique(y_train)\n",
    "    n_classes = len(classes)\n",
    "    \n",
    "    likelihoods = np.zeros((n_classes,n))\n",
    "    \n",
    "    for c in range(n_classes):\n",
    "        doc_count = n # I only add here total word count as drichlet prior\n",
    "        word_count = np.zeros(n) + 1 # I add alpha = 1 prior to each word\n",
    "        for i in range(m):\n",
    "            if y_train[i] == c:\n",
    "                word_count += X_train[i]\n",
    "                doc_count += np.sum(X_train[i])\n",
    "        likelihoods[c,:] = np.log(word_count/doc_count)\n",
    "        likelihoods[c, :] = np.where(likelihoods[c, :] == -np.inf, -1e12, likelihoods[c, :])\n",
    "        \n",
    "    return likelihoods"
   ]
  },
  {
   "cell_type": "code",
   "execution_count": 40,
   "id": "dcb8d738",
   "metadata": {},
   "outputs": [
    {
     "name": "stdout",
     "output_type": "stream",
     "text": [
      "Accuracy of the Multinomial Naive Bayes classifier-with Laplace smoothing: 0.977\n"
     ]
    }
   ],
   "source": [
    "likelihoods = MLE_drichlet(X_train,y_train)\n",
    "classes = np.unique(y_train)\n",
    "y_pred2 = multinomial_nb(X_test, likelihoods, prior_arr, classes)#Use the prediction function written in\n",
    "accuracy = calculate_accuracy(y_test[0],y_pred2)\n",
    "print(f\"Accuracy of the Multinomial Naive Bayes classifier-with Laplace smoothing: {accuracy:.3f}\")"
   ]
  },
  {
   "cell_type": "markdown",
   "id": "798cbeae",
   "metadata": {},
   "source": [
    "# Question 3.4"
   ]
  },
  {
   "cell_type": "code",
   "execution_count": 41,
   "id": "21af8f78",
   "metadata": {},
   "outputs": [],
   "source": [
    "#Preprocess dataset so that all positive numbers become 1 "
   ]
  },
  {
   "cell_type": "code",
   "execution_count": 42,
   "id": "c18fd784",
   "metadata": {},
   "outputs": [
    {
     "data": {
      "text/html": [
       "<div>\n",
       "<style scoped>\n",
       "    .dataframe tbody tr th:only-of-type {\n",
       "        vertical-align: middle;\n",
       "    }\n",
       "\n",
       "    .dataframe tbody tr th {\n",
       "        vertical-align: top;\n",
       "    }\n",
       "\n",
       "    .dataframe thead th {\n",
       "        text-align: right;\n",
       "    }\n",
       "</style>\n",
       "<table border=\"1\" class=\"dataframe\">\n",
       "  <thead>\n",
       "    <tr style=\"text-align: right;\">\n",
       "      <th></th>\n",
       "      <th>ad</th>\n",
       "      <th>sale</th>\n",
       "      <th>boost</th>\n",
       "      <th>time</th>\n",
       "      <th>warner</th>\n",
       "      <th>profit</th>\n",
       "      <th>quarterli</th>\n",
       "      <th>media</th>\n",
       "      <th>giant</th>\n",
       "      <th>jump</th>\n",
       "      <th>...</th>\n",
       "      <th>Â£339</th>\n",
       "      <th>denialofservic</th>\n",
       "      <th>ddo</th>\n",
       "      <th>seagrav</th>\n",
       "      <th>bot</th>\n",
       "      <th>wirelessli</th>\n",
       "      <th>streamcast</th>\n",
       "      <th>peripher</th>\n",
       "      <th>headphon</th>\n",
       "      <th>flavour</th>\n",
       "    </tr>\n",
       "  </thead>\n",
       "  <tbody>\n",
       "    <tr>\n",
       "      <th>0</th>\n",
       "      <td>1</td>\n",
       "      <td>1</td>\n",
       "      <td>0</td>\n",
       "      <td>0</td>\n",
       "      <td>0</td>\n",
       "      <td>0</td>\n",
       "      <td>0</td>\n",
       "      <td>1</td>\n",
       "      <td>1</td>\n",
       "      <td>0</td>\n",
       "      <td>...</td>\n",
       "      <td>0</td>\n",
       "      <td>0</td>\n",
       "      <td>0</td>\n",
       "      <td>0</td>\n",
       "      <td>0</td>\n",
       "      <td>0</td>\n",
       "      <td>0</td>\n",
       "      <td>0</td>\n",
       "      <td>0</td>\n",
       "      <td>0</td>\n",
       "    </tr>\n",
       "    <tr>\n",
       "      <th>1</th>\n",
       "      <td>0</td>\n",
       "      <td>0</td>\n",
       "      <td>0</td>\n",
       "      <td>0</td>\n",
       "      <td>0</td>\n",
       "      <td>0</td>\n",
       "      <td>0</td>\n",
       "      <td>0</td>\n",
       "      <td>0</td>\n",
       "      <td>0</td>\n",
       "      <td>...</td>\n",
       "      <td>0</td>\n",
       "      <td>0</td>\n",
       "      <td>0</td>\n",
       "      <td>0</td>\n",
       "      <td>0</td>\n",
       "      <td>0</td>\n",
       "      <td>0</td>\n",
       "      <td>0</td>\n",
       "      <td>0</td>\n",
       "      <td>0</td>\n",
       "    </tr>\n",
       "    <tr>\n",
       "      <th>2</th>\n",
       "      <td>1</td>\n",
       "      <td>0</td>\n",
       "      <td>0</td>\n",
       "      <td>0</td>\n",
       "      <td>0</td>\n",
       "      <td>0</td>\n",
       "      <td>0</td>\n",
       "      <td>0</td>\n",
       "      <td>0</td>\n",
       "      <td>0</td>\n",
       "      <td>...</td>\n",
       "      <td>0</td>\n",
       "      <td>0</td>\n",
       "      <td>0</td>\n",
       "      <td>0</td>\n",
       "      <td>0</td>\n",
       "      <td>0</td>\n",
       "      <td>0</td>\n",
       "      <td>0</td>\n",
       "      <td>0</td>\n",
       "      <td>0</td>\n",
       "    </tr>\n",
       "    <tr>\n",
       "      <th>3</th>\n",
       "      <td>0</td>\n",
       "      <td>0</td>\n",
       "      <td>1</td>\n",
       "      <td>0</td>\n",
       "      <td>0</td>\n",
       "      <td>0</td>\n",
       "      <td>0</td>\n",
       "      <td>0</td>\n",
       "      <td>0</td>\n",
       "      <td>0</td>\n",
       "      <td>...</td>\n",
       "      <td>0</td>\n",
       "      <td>0</td>\n",
       "      <td>0</td>\n",
       "      <td>0</td>\n",
       "      <td>0</td>\n",
       "      <td>0</td>\n",
       "      <td>0</td>\n",
       "      <td>0</td>\n",
       "      <td>0</td>\n",
       "      <td>0</td>\n",
       "    </tr>\n",
       "    <tr>\n",
       "      <th>4</th>\n",
       "      <td>0</td>\n",
       "      <td>0</td>\n",
       "      <td>0</td>\n",
       "      <td>1</td>\n",
       "      <td>0</td>\n",
       "      <td>0</td>\n",
       "      <td>0</td>\n",
       "      <td>0</td>\n",
       "      <td>0</td>\n",
       "      <td>0</td>\n",
       "      <td>...</td>\n",
       "      <td>0</td>\n",
       "      <td>0</td>\n",
       "      <td>0</td>\n",
       "      <td>0</td>\n",
       "      <td>0</td>\n",
       "      <td>0</td>\n",
       "      <td>0</td>\n",
       "      <td>0</td>\n",
       "      <td>0</td>\n",
       "      <td>0</td>\n",
       "    </tr>\n",
       "    <tr>\n",
       "      <th>...</th>\n",
       "      <td>...</td>\n",
       "      <td>...</td>\n",
       "      <td>...</td>\n",
       "      <td>...</td>\n",
       "      <td>...</td>\n",
       "      <td>...</td>\n",
       "      <td>...</td>\n",
       "      <td>...</td>\n",
       "      <td>...</td>\n",
       "      <td>...</td>\n",
       "      <td>...</td>\n",
       "      <td>...</td>\n",
       "      <td>...</td>\n",
       "      <td>...</td>\n",
       "      <td>...</td>\n",
       "      <td>...</td>\n",
       "      <td>...</td>\n",
       "      <td>...</td>\n",
       "      <td>...</td>\n",
       "      <td>...</td>\n",
       "      <td>...</td>\n",
       "    </tr>\n",
       "    <tr>\n",
       "      <th>1663</th>\n",
       "      <td>1</td>\n",
       "      <td>0</td>\n",
       "      <td>0</td>\n",
       "      <td>0</td>\n",
       "      <td>0</td>\n",
       "      <td>0</td>\n",
       "      <td>0</td>\n",
       "      <td>0</td>\n",
       "      <td>0</td>\n",
       "      <td>0</td>\n",
       "      <td>...</td>\n",
       "      <td>0</td>\n",
       "      <td>0</td>\n",
       "      <td>0</td>\n",
       "      <td>0</td>\n",
       "      <td>0</td>\n",
       "      <td>0</td>\n",
       "      <td>0</td>\n",
       "      <td>0</td>\n",
       "      <td>0</td>\n",
       "      <td>0</td>\n",
       "    </tr>\n",
       "    <tr>\n",
       "      <th>1664</th>\n",
       "      <td>0</td>\n",
       "      <td>0</td>\n",
       "      <td>0</td>\n",
       "      <td>1</td>\n",
       "      <td>0</td>\n",
       "      <td>0</td>\n",
       "      <td>0</td>\n",
       "      <td>0</td>\n",
       "      <td>0</td>\n",
       "      <td>0</td>\n",
       "      <td>...</td>\n",
       "      <td>0</td>\n",
       "      <td>0</td>\n",
       "      <td>0</td>\n",
       "      <td>0</td>\n",
       "      <td>0</td>\n",
       "      <td>0</td>\n",
       "      <td>0</td>\n",
       "      <td>0</td>\n",
       "      <td>0</td>\n",
       "      <td>0</td>\n",
       "    </tr>\n",
       "    <tr>\n",
       "      <th>1665</th>\n",
       "      <td>0</td>\n",
       "      <td>0</td>\n",
       "      <td>0</td>\n",
       "      <td>1</td>\n",
       "      <td>0</td>\n",
       "      <td>1</td>\n",
       "      <td>0</td>\n",
       "      <td>0</td>\n",
       "      <td>0</td>\n",
       "      <td>0</td>\n",
       "      <td>...</td>\n",
       "      <td>0</td>\n",
       "      <td>0</td>\n",
       "      <td>0</td>\n",
       "      <td>0</td>\n",
       "      <td>0</td>\n",
       "      <td>0</td>\n",
       "      <td>0</td>\n",
       "      <td>0</td>\n",
       "      <td>0</td>\n",
       "      <td>0</td>\n",
       "    </tr>\n",
       "    <tr>\n",
       "      <th>1666</th>\n",
       "      <td>1</td>\n",
       "      <td>0</td>\n",
       "      <td>0</td>\n",
       "      <td>0</td>\n",
       "      <td>0</td>\n",
       "      <td>0</td>\n",
       "      <td>0</td>\n",
       "      <td>0</td>\n",
       "      <td>0</td>\n",
       "      <td>0</td>\n",
       "      <td>...</td>\n",
       "      <td>0</td>\n",
       "      <td>0</td>\n",
       "      <td>0</td>\n",
       "      <td>0</td>\n",
       "      <td>0</td>\n",
       "      <td>0</td>\n",
       "      <td>0</td>\n",
       "      <td>0</td>\n",
       "      <td>0</td>\n",
       "      <td>0</td>\n",
       "    </tr>\n",
       "    <tr>\n",
       "      <th>1667</th>\n",
       "      <td>1</td>\n",
       "      <td>0</td>\n",
       "      <td>0</td>\n",
       "      <td>0</td>\n",
       "      <td>0</td>\n",
       "      <td>0</td>\n",
       "      <td>0</td>\n",
       "      <td>0</td>\n",
       "      <td>0</td>\n",
       "      <td>0</td>\n",
       "      <td>...</td>\n",
       "      <td>0</td>\n",
       "      <td>0</td>\n",
       "      <td>0</td>\n",
       "      <td>0</td>\n",
       "      <td>0</td>\n",
       "      <td>0</td>\n",
       "      <td>0</td>\n",
       "      <td>0</td>\n",
       "      <td>0</td>\n",
       "      <td>0</td>\n",
       "    </tr>\n",
       "  </tbody>\n",
       "</table>\n",
       "<p>1668 rows × 9635 columns</p>\n",
       "</div>"
      ],
      "text/plain": [
       "      ad  sale  boost  time  warner  profit  quarterli  media  giant  jump  \\\n",
       "0      1     1      0     0       0       0          0      1      1     0   \n",
       "1      0     0      0     0       0       0          0      0      0     0   \n",
       "2      1     0      0     0       0       0          0      0      0     0   \n",
       "3      0     0      1     0       0       0          0      0      0     0   \n",
       "4      0     0      0     1       0       0          0      0      0     0   \n",
       "...   ..   ...    ...   ...     ...     ...        ...    ...    ...   ...   \n",
       "1663   1     0      0     0       0       0          0      0      0     0   \n",
       "1664   0     0      0     1       0       0          0      0      0     0   \n",
       "1665   0     0      0     1       0       1          0      0      0     0   \n",
       "1666   1     0      0     0       0       0          0      0      0     0   \n",
       "1667   1     0      0     0       0       0          0      0      0     0   \n",
       "\n",
       "      ...  Â£339  denialofservic  ddo  seagrav  bot  wirelessli  streamcast  \\\n",
       "0     ...      0               0    0        0    0           0           0   \n",
       "1     ...      0               0    0        0    0           0           0   \n",
       "2     ...      0               0    0        0    0           0           0   \n",
       "3     ...      0               0    0        0    0           0           0   \n",
       "4     ...      0               0    0        0    0           0           0   \n",
       "...   ...    ...             ...  ...      ...  ...         ...         ...   \n",
       "1663  ...      0               0    0        0    0           0           0   \n",
       "1664  ...      0               0    0        0    0           0           0   \n",
       "1665  ...      0               0    0        0    0           0           0   \n",
       "1666  ...      0               0    0        0    0           0           0   \n",
       "1667  ...      0               0    0        0    0           0           0   \n",
       "\n",
       "      peripher  headphon  flavour  \n",
       "0            0         0        0  \n",
       "1            0         0        0  \n",
       "2            0         0        0  \n",
       "3            0         0        0  \n",
       "4            0         0        0  \n",
       "...        ...       ...      ...  \n",
       "1663         0         0        0  \n",
       "1664         0         0        0  \n",
       "1665         0         0        0  \n",
       "1666         0         0        0  \n",
       "1667         0         0        0  \n",
       "\n",
       "[1668 rows x 9635 columns]"
      ]
     },
     "execution_count": 42,
     "metadata": {},
     "output_type": "execute_result"
    }
   ],
   "source": [
    "X_train_processed = (X_train > 0).astype(int)\n",
    "X_test_processed = (X_test > 0).astype(int)\n",
    "X_train_processed"
   ]
  },
  {
   "cell_type": "code",
   "execution_count": 43,
   "id": "aa697022",
   "metadata": {},
   "outputs": [
    {
     "data": {
      "text/plain": [
       "(5, 9635)"
      ]
     },
     "execution_count": 43,
     "metadata": {},
     "output_type": "execute_result"
    }
   ],
   "source": [
    "num_features = X_train.shape[1]\n",
    "n_classes = len(classes)\n",
    "n_classes,num_features"
   ]
  },
  {
   "cell_type": "code",
   "execution_count": 44,
   "id": "7a5fbfd0",
   "metadata": {},
   "outputs": [
    {
     "data": {
      "text/plain": [
       "array([0.22482014, 0.17026379, 0.191247  , 0.22601918, 0.18764988])"
      ]
     },
     "execution_count": 44,
     "metadata": {},
     "output_type": "execute_result"
    }
   ],
   "source": [
    "prior_arr"
   ]
  },
  {
   "cell_type": "code",
   "execution_count": 45,
   "id": "0a8650e9",
   "metadata": {},
   "outputs": [],
   "source": [
    "#Now find likelihoods\n",
    "likelihood_ber = np.zeros((n_classes, num_features))\n",
    "for i in range(n_classes):\n",
    "    X_class = X_train_processed[y_train['class'] == i]\n",
    "    word_count = X_class.sum(axis=0)\n",
    "    likelihood_ber[i] = (word_count + 1) / (X_class.shape[0] + 2)"
   ]
  },
  {
   "cell_type": "code",
   "execution_count": 46,
   "id": "0d8b8c42",
   "metadata": {},
   "outputs": [
    {
     "data": {
      "text/plain": [
       "array([[0.25464191, 0.29442971, 0.17241379, ..., 0.00265252, 0.00265252,\n",
       "        0.00265252],\n",
       "       [0.23076923, 0.16083916, 0.03496503, ..., 0.0034965 , 0.0034965 ,\n",
       "        0.0034965 ],\n",
       "       [0.33956386, 0.01869159, 0.07788162, ..., 0.00311526, 0.00311526,\n",
       "        0.00311526],\n",
       "       [0.31926121, 0.06068602, 0.04221636, ..., 0.00263852, 0.00263852,\n",
       "        0.00263852],\n",
       "       [0.28888889, 0.16190476, 0.05079365, ..., 0.01269841, 0.01269841,\n",
       "        0.00952381]])"
      ]
     },
     "execution_count": 46,
     "metadata": {},
     "output_type": "execute_result"
    }
   ],
   "source": [
    "likelihood_ber"
   ]
  },
  {
   "cell_type": "code",
   "execution_count": 47,
   "id": "c329896c",
   "metadata": {},
   "outputs": [],
   "source": [
    "def BNB(X_test_processed, likelihood_ber, prior_arr, n_classes):\n",
    "    predictions = []\n",
    "    for doc in X_test_processed.values:\n",
    "        class_scores = []\n",
    "        for i in range(n_classes):\n",
    "            log_like_1 = np.log(likelihood_ber[i])\n",
    "            log_like_0 = np.log(1 - likelihood_ber[i])\n",
    "            c_score = np.log(prior_arr[i]) + np.sum(doc * log_like_1) + np.sum((1 -doc) * log_like_0)\n",
    "            if c_score == -np.inf:\n",
    "                c_score = -1e12\n",
    "            class_scores.append(c_score)\n",
    "\n",
    "        predictions.append(np.argmax(class_scores))\n",
    "\n",
    "    return predictions"
   ]
  },
  {
   "cell_type": "code",
   "execution_count": 48,
   "id": "00de9203",
   "metadata": {},
   "outputs": [],
   "source": [
    "y_pred_ber = BNB(X_test_processed,likelihood_ber,prior_arr,n_classes)"
   ]
  },
  {
   "cell_type": "code",
   "execution_count": 49,
   "id": "41401fbb",
   "metadata": {},
   "outputs": [
    {
     "name": "stdout",
     "output_type": "stream",
     "text": [
      "Accuracy of the Multinomial Naive Bayes classifier: 0.966\n"
     ]
    }
   ],
   "source": [
    "accuracy = calculate_accuracy(y_test[0],y_pred_ber)\n",
    "print(f\"Accuracy of the Multinomial Naive Bayes classifier: {accuracy:.3f}\")"
   ]
  },
  {
   "cell_type": "code",
   "execution_count": 50,
   "id": "cc3d3128",
   "metadata": {},
   "outputs": [
    {
     "name": "stdout",
     "output_type": "stream",
     "text": [
      "Elapsed time to run all three algorithm is: 2.175299\n"
     ]
    }
   ],
   "source": [
    "end_time = datetime.datetime.now()\n",
    "elapsed_time = end_time - start_time\n",
    "print(f\"Elapsed time to run all three algorithm is: {elapsed_time.total_seconds()}\")\n",
    "#This elapsed time contains the plots and data_processing time."
   ]
  }
 ],
 "metadata": {
  "kernelspec": {
   "display_name": "Python 3 (ipykernel)",
   "language": "python",
   "name": "python3"
  },
  "language_info": {
   "codemirror_mode": {
    "name": "ipython",
    "version": 3
   },
   "file_extension": ".py",
   "mimetype": "text/x-python",
   "name": "python",
   "nbconvert_exporter": "python",
   "pygments_lexer": "ipython3",
   "version": "3.11.3"
  }
 },
 "nbformat": 4,
 "nbformat_minor": 5
}
